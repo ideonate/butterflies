{
 "cells": [
  {
   "cell_type": "code",
   "execution_count": null,
   "metadata": {},
   "outputs": [],
   "source": [
    "import urllib\n",
    "from pathlib import Path\n",
    "import os\n",
    "from random import randint\n",
    "import time\n",
    "import pandas as pd\n",
    "\n",
    "# Where we store a CSV of all images including their class\n",
    "BUTTERFLIES_ORIG_FILEPATH = Path('./butterflies_original.csv')\n",
    "\n",
    "# Folder to download images to local disk\n",
    "IMG_FOLDER = 'butterfly_medium_images'\n",
    "\n",
    "# How many images of each butterfly type to download? -1 means all available, 300 is a good choice for speed\n",
    "IMAGES_PER_CLASS = -1"
   ]
  },
  {
   "cell_type": "markdown",
   "metadata": {},
   "source": [
    "# Search and Download butterfly images\n",
    "Download photos tagged as two different species of Butterfly in Flickr. If you are following along and want to obtain the same images and filenames that I used, so you can use my bounding boxes, jump straight to the bottom section **Download From CSV** just to download (without a new Flickr search).\n",
    "\n",
    "Otherwise, you need to obtain your own Flickr API key and secret\n",
    "https://www.flickr.com/services/api/misc.api_keys.html\n",
    "which you place in a file called config.py (see config_sample.py for an example).\n",
    "\n",
    "You will also need to install the FlickrAPI:\n",
    "\n",
    "!pip install flickrapi"
   ]
  },
  {
   "cell_type": "code",
   "execution_count": null,
   "metadata": {},
   "outputs": [],
   "source": [
    "# Copyright 2014-2017 Bert Carremans\n",
    "# Author: Bert Carremans <bertcarremans.be>\n",
    "# Original code: https://github.com/bertcarremans/Vlindervinder/blob/master/flickr/download_flickr_photos.ipynb\n",
    "# Modified: Dan Lester <dan@ideonate.com>\n",
    "# License: BSD 3 clause\n",
    "\n",
    "from flickrapi import FlickrAPI, shorturl\n",
    "import config\n",
    "\n",
    "def download_flickr_photos(keywords, size='medium', max_nb_img=-1):\n",
    "    \"\"\"\n",
    "    Downloads images based on keyword search on the Flickr website\n",
    "        \n",
    "    Parameters\n",
    "    ----------\n",
    "    keywords : string, list of strings\n",
    "        Keyword to search for or a list of keywords should be given.\n",
    "    size : one of the following strings 'thumbnail', 'square', 'medium', default: 'original'.\n",
    "        Size of the image to download. In this function we only provide\n",
    "        four options. More options are explained at \n",
    "        http://librdf.org/flickcurl/api/flickcurl-searching-search-extras.html\n",
    "    max_nb_img : int, default: -1\n",
    "        Maximum number of images per keyword to download. If given a value of -1, all images\n",
    "        will be downloaded\n",
    "    \n",
    "    Returns\n",
    "    ------\n",
    "    Images found based on the keyword are saved in IMG_FOLDER and given new filenames.\n",
    "    A Pandas-ready dict is returned containing 'filename' as found in IMG_FOLDER, 'class' indicating the \n",
    "    search term that found the image, 'original_url' the direct URL on Flickr for the image,\n",
    "    'flickr_page' containing URL of the human-friendly Flickr page showing the image.\n",
    "    \n",
    "    Notes\n",
    "    -----\n",
    "    This function uses the Python package flickrapi and its walk method. \n",
    "    FlickrAPI.walk has same parameters as FlickrAPI.search\n",
    "    http://www.flickr.com/services/api/flickr.photos.search.html\n",
    "    \n",
    "    To use the Flickr API a set of API keys needs to be created on \n",
    "    https://www.flickr.com/services/api/misc.api_keys.html\n",
    "    \"\"\"\n",
    "    if not (isinstance(keywords, str) or isinstance(keywords, list)):\n",
    "        raise AttributeError('keywords must be a string or a list of strings')\n",
    "        \n",
    "    if not (size in ['thumbnail', 'square', 'medium', 'original']):\n",
    "        raise AttributeError('size must be \"thumbnail\", \"square\", \"medium\" or \"original\"')\n",
    "                             \n",
    "    if not (max_nb_img == -1 or (max_nb_img > 0 and isinstance(max_nb_img, int))):\n",
    "        raise AttributeError('max_nb_img must be an integer greater than zero or equal to -1')\n",
    "    \n",
    "    flickr = FlickrAPI(config.API_KEY, config.API_SECRET)\n",
    "    \n",
    "    if isinstance(keywords, str):\n",
    "        keywords_list = []\n",
    "        keywords_list.append(keywords)\n",
    "    else:\n",
    "        keywords_list = keywords\n",
    "        \n",
    "    if size == 'thumbnail':\n",
    "        size_url = 'url_t'\n",
    "    elif size == 'square':\n",
    "        size_url = 'url_q'\n",
    "    elif size == 'medium':\n",
    "        size_url = 'url_c'\n",
    "    elif size == 'original':\n",
    "        size_url = 'url_o'\n",
    "        \n",
    "    results_folder = IMG_FOLDER + '/'\n",
    "    if not os.path.exists(results_folder):\n",
    "        os.makedirs(results_folder)\n",
    "    \n",
    "    classes = []\n",
    "    filenames = []\n",
    "    urls = []\n",
    "    flickr_pages = []\n",
    "    \n",
    "    for ki, keyword in enumerate(keywords_list):\n",
    "        cls_name = keyword.replace(\" \", \"_\")\n",
    "        count = 0\n",
    "        prefix = chr(65+ki)\n",
    "\n",
    "        photos = flickr.walk(\n",
    "                     text=keyword,\n",
    "                     extras=size_url,\n",
    "                     license='1,2,4,5',\n",
    "                     per_page=50)\n",
    "        \n",
    "        for photo in photos:\n",
    "            t = randint(1, 3)\n",
    "            time.sleep(t)\n",
    "            count += 1\n",
    "            if max_nb_img != -1:\n",
    "                if count > max_nb_img:\n",
    "                    print('Reached maximum number of images to download')\n",
    "                    break\n",
    "            try:\n",
    "                url=photo.get(size_url)\n",
    "                filename = prefix + str(count) +\".jpg\"\n",
    "                \n",
    "                print(f'Downloading {cls_name} image #{count} as {filename} from url {url}')\n",
    "                urllib.request.urlretrieve(url,  results_folder + filename)\n",
    "                \n",
    "                classes.append(cls_name)\n",
    "                filenames.append(filename)\n",
    "                urls.append(url)\n",
    "                flickr_pages.append(\"https://flic.kr/p/%s\" % (shorturl.encode(photo.get('id')),))\n",
    "                \n",
    "            except Exception as e:\n",
    "                print(e, f'Download failure {url}')\n",
    "                             \n",
    "        print(\"Total images downloaded:\", str(count - 1))\n",
    "    \n",
    "    return {'class': classes, 'filename': filenames, 'original_url': urls, 'flickr_page': flickr_pages}"
   ]
  },
  {
   "cell_type": "markdown",
   "metadata": {},
   "source": [
    "Find some Meadow Brown Butterfly images then some Gatekeeper Butterfly images, saving them all to IMG_FOLDER"
   ]
  },
  {
   "cell_type": "code",
   "execution_count": null,
   "metadata": {},
   "outputs": [],
   "source": [
    "butterflies = ['meadow brown butterfly', 'gatekeeper butterfly']\n",
    "d = download_flickr_photos(butterflies, size='medium', max_nb_img=IMAGES_PER_CLASS)"
   ]
  },
  {
   "cell_type": "markdown",
   "metadata": {},
   "source": [
    "Create a Pandas DataFrame containing all the information (most important is class and filename so we know which species is shown in each file)"
   ]
  },
  {
   "cell_type": "code",
   "execution_count": null,
   "metadata": {},
   "outputs": [],
   "source": [
    "df = pd.DataFrame(d)\n",
    "\n",
    "df.to_csv(BUTTERFLIES_ORIG_FILEPATH, index=False)"
   ]
  },
  {
   "cell_type": "markdown",
   "metadata": {},
   "source": [
    "**Stop here.** The next section should be used instead of the above code if you just want to download the same images as I used."
   ]
  },
  {
   "cell_type": "markdown",
   "metadata": {},
   "source": [
    "# Download From CSV\n",
    "\n",
    "There is no need to run this section if you've already run the above.\n",
    "\n",
    "Only use the code below to download the same Flickr images that I've used so you can use the same bounding boxes and other CSV data that I created."
   ]
  },
  {
   "cell_type": "code",
   "execution_count": null,
   "metadata": {},
   "outputs": [],
   "source": [
    "df = pd.read_csv(BUTTERFLIES_ORIG_FILEPATH)"
   ]
  },
  {
   "cell_type": "code",
   "execution_count": null,
   "metadata": {},
   "outputs": [],
   "source": [
    "results_folder = IMG_FOLDER + '/'\n",
    "if not os.path.exists(results_folder):\n",
    "    os.makedirs(results_folder)\n",
    "\n",
    "for i, row in df.iterrows():\n",
    "    filename = row['filename']\n",
    "    url = row['original_url']\n",
    "    pathname = results_folder + filename\n",
    "    print(f'Downloading {url} into {pathname}')\n",
    "    urllib.request.urlretrieve(url,  pathname)\n"
   ]
  },
  {
   "cell_type": "code",
   "execution_count": null,
   "metadata": {},
   "outputs": [],
   "source": []
  }
 ],
 "metadata": {
  "kernelspec": {
   "display_name": "Python 3",
   "language": "python",
   "name": "python3"
  }
 },
 "nbformat": 4,
 "nbformat_minor": 2
}
