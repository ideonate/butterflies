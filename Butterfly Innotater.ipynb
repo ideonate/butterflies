{
 "cells": [
  {
   "cell_type": "code",
   "execution_count": 57,
   "metadata": {},
   "outputs": [],
   "source": [
    "from pathlib import Path\n",
    "import numpy as np\n",
    "import pandas as pd"
   ]
  },
  {
   "cell_type": "code",
   "execution_count": 58,
   "metadata": {},
   "outputs": [],
   "source": [
    "from jupyter_innotater import Innotater\n",
    "from jupyter_innotater.data import ImageInnotation, BoundingBoxInnotation, \\\n",
    "                MultiClassInnotation, TextInnotation, BinaryClassInnotation\n"
   ]
  },
  {
   "cell_type": "code",
   "execution_count": 59,
   "metadata": {},
   "outputs": [],
   "source": [
    "BUTTERFLIES_ORIG_FILEPATH = Path('./butterflies_original_full.csv')\n",
    "BUTTERFLIES_BBOXES_FILEPATH = Path('./butterflies_bboxes_full.csv')\n",
    "\n",
    "IMAGE_FOLDER = Path('./butterfly_medium_images_full')\n",
    "\n",
    "df = pd.read_csv(BUTTERFLIES_BBOXES_FILEPATH if BUTTERFLIES_BBOXES_FILEPATH.is_file() else BUTTERFLIES_ORIG_FILEPATH)"
   ]
  },
  {
   "cell_type": "code",
   "execution_count": 60,
   "metadata": {},
   "outputs": [
    {
     "data": {
      "text/plain": [
       "['gatekeeper_butterfly', 'meadow_brown_butterfly']"
      ]
     },
     "execution_count": 60,
     "metadata": {},
     "output_type": "execute_result"
    }
   ],
   "source": [
    "cats = sorted(df['class'].drop_duplicates().values.tolist()); cats"
   ]
  },
  {
   "cell_type": "code",
   "execution_count": 61,
   "metadata": {},
   "outputs": [],
   "source": [
    "if not BUTTERFLIES_BBOXES_FILEPATH.is_file():\n",
    "    for new_col in ('exclude','x','y','w','h'):\n",
    "        df[new_col] = 0"
   ]
  },
  {
   "cell_type": "code",
   "execution_count": 62,
   "metadata": {},
   "outputs": [],
   "source": [
    "classes = np.array([cats.index(c) for c in df['class']])\n",
    "excludes = df['exclude'].values\n",
    "bboxes = df[['x','y','w','h']].values"
   ]
  },
  {
   "cell_type": "code",
   "execution_count": 63,
   "metadata": {},
   "outputs": [],
   "source": [
    "# Make an ordering so that we cycle through the different categories, \n",
    "# so as we step through we get to see the same number of images from each category\n",
    "cat_dicts = {}\n",
    "for i,cat in enumerate(df['class']):\n",
    "    cat_dicts.setdefault(cat, []).append(i)\n",
    "\n",
    "min_len = min([len(a) for a in cat_dicts.values()])\n",
    "\n",
    "indexes = np.array([a[:min_len] for a in cat_dicts.values()]).transpose().reshape(-1)"
   ]
  },
  {
   "cell_type": "code",
   "execution_count": 64,
   "metadata": {},
   "outputs": [
    {
     "data": {
      "text/plain": [
       "array([  0, 482,   1, 483,   2, 484,   3, 485,   4, 486])"
      ]
     },
     "execution_count": 64,
     "metadata": {},
     "output_type": "execute_result"
    }
   ],
   "source": [
    "indexes[:10]"
   ]
  },
  {
   "cell_type": "code",
   "execution_count": 65,
   "metadata": {},
   "outputs": [
    {
     "name": "stdout",
     "output_type": "stream",
     "text": [
      "Next index needing a box: 260\n"
     ]
    }
   ],
   "source": [
    "first_blank = ((bboxes[indexes] != 0).sum(axis=1) + excludes[indexes] == 0).nonzero()[0][0]\n",
    "print(f'Next index needing a box: {first_blank}')"
   ]
  },
  {
   "cell_type": "code",
   "execution_count": 66,
   "metadata": {},
   "outputs": [
    {
     "data": {
      "application/vnd.jupyter.widget-view+json": {
       "model_id": "00bc13ffa6f8492eba2c067e98286916",
       "version_major": 2,
       "version_minor": 0
      },
      "text/plain": [
       "Innotater(children=(HBox(children=(VBox(children=(ImagePad(value=b'\\xff\\xd8\\xff\\xe0\\x00\\x10JFIF\\x00\\x01\\x01\\x0…"
      ]
     },
     "metadata": {},
     "output_type": "display_data"
    }
   ],
   "source": [
    "winnotater = Innotater( \n",
    "    [ImageInnotation(df['filename'], path=IMAGE_FOLDER, height=300, width=400),\n",
    "     TextInnotation(df['filename'])\n",
    "    ],\n",
    "    [BoundingBoxInnotation(bboxes), \n",
    "     BinaryClassInnotation(excludes, name='Exclude'),\n",
    "     MultiClassInnotation(classes, classes=cats, dropdown=True)\n",
    "    ],\n",
    "    indexes=indexes, keyboard_shortcuts=True\n",
    ")\n",
    "winnotater.index = int(first_blank)\n",
    "display(winnotater)"
   ]
  },
  {
   "cell_type": "code",
   "execution_count": 67,
   "metadata": {},
   "outputs": [
    {
     "data": {
      "text/plain": [
       "(array([[  0,   0,   0,   0],\n",
       "        [ 38, 197, 484, 268],\n",
       "        [  0,   0,   0,   0],\n",
       "        [274,  31, 458, 556],\n",
       "        [  0,   0,   0,   0],\n",
       "        [ 70,  29, 457, 457],\n",
       "        [282, 195, 178, 170],\n",
       "        [173,  49, 307, 349],\n",
       "        [236,  83, 362, 402],\n",
       "        [213, 214, 252, 172]]), array([1, 0, 1, 0, 1, 0, 0, 0, 0, 0]))"
      ]
     },
     "execution_count": 67,
     "metadata": {},
     "output_type": "execute_result"
    }
   ],
   "source": [
    "bboxes[indexes][:10], excludes[indexes][:10]"
   ]
  },
  {
   "cell_type": "code",
   "execution_count": 55,
   "metadata": {},
   "outputs": [],
   "source": [
    "df[['x','y','w','h']] = bboxes\n",
    "df['exclude'] = excludes\n",
    "df['class'] = [cats[i] for i in classes]"
   ]
  },
  {
   "cell_type": "code",
   "execution_count": 56,
   "metadata": {},
   "outputs": [],
   "source": [
    "df.to_csv(BUTTERFLIES_BBOXES_FILEPATH, index=False)"
   ]
  },
  {
   "cell_type": "code",
   "execution_count": 53,
   "metadata": {},
   "outputs": [
    {
     "name": "stdout",
     "output_type": "stream",
     "text": [
      "flic.kr/p/dyLVRx\n"
     ]
    }
   ],
   "source": [
    "num=8247175181 \n",
    "a='123456789abcdefghijkmnopqrstuvwxyzABCDEFGHJKLMNPQRSTUVWXYZ'\n",
    "bc=len(a)\n",
    "enc=''\n",
    "while num>=bc: \n",
    "    div,mod=divmod(num,bc) \n",
    "    enc = a[mod]+enc \n",
    "    num = int(div)\n",
    "enc = a[num]+enc \n",
    "print(\"flic.kr/p/%s\" % (enc,))"
   ]
  },
  {
   "cell_type": "code",
   "execution_count": null,
   "metadata": {},
   "outputs": [],
   "source": []
  }
 ],
 "metadata": {
  "kernelspec": {
   "display_name": "Python 3",
   "language": "python",
   "name": "python3"
  },
  "language_info": {
   "codemirror_mode": {
    "name": "ipython",
    "version": 3
   },
   "file_extension": ".py",
   "mimetype": "text/x-python",
   "name": "python",
   "nbconvert_exporter": "python",
   "pygments_lexer": "ipython3",
   "version": "3.7.1"
  }
 },
 "nbformat": 4,
 "nbformat_minor": 2
}
