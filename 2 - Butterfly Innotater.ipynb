{
 "cells": [
  {
   "cell_type": "markdown",
   "metadata": {},
   "source": [
    "# Annotate Images manually using Innotater\n",
    "\n",
    "Add Annotations to our Butterfly data manually using the open source Innotater project. We will interactively flag images that shouldn't be in our dataset and also draw some bounding boxes which we'll use to make a more accurate model in later notebooks.\n",
    "\n",
    "You'll need to install the Innotater - run the following in a Jupyter cell:\n",
    "\n",
    "`!pip install jupyter-innotater`\n",
    "or without the exclamation mark in a terminal shell.\n",
    "\n",
    "If your environment is set up using Anaconda, you might first need to:\n",
    "\n",
    "`conda install pip`\n",
    "`export PIP_REQUIRE_VIRTUALENV=false`\n",
    "\n",
    "To recreate the full experience of this project and manually draw annotations, you will need to delete the file butterflies_bboxes.csv containing my existing annotations. Or leave the file present to step through and see what I've done."
   ]
  },
  {
   "cell_type": "code",
   "execution_count": 1,
   "metadata": {},
   "outputs": [],
   "source": [
    "from pathlib import Path\n",
    "import numpy as np\n",
    "import pandas as pd"
   ]
  },
  {
   "cell_type": "code",
   "execution_count": 2,
   "metadata": {},
   "outputs": [],
   "source": [
    "# imports for the Innotater\n",
    "from jupyter_innotater import Innotater\n",
    "from jupyter_innotater.data import ImageInnotation, BoundingBoxInnotation, \\\n",
    "                MultiClassInnotation, TextInnotation, BinaryClassInnotation"
   ]
  },
  {
   "cell_type": "code",
   "execution_count": 3,
   "metadata": {},
   "outputs": [],
   "source": [
    "# Source CSV created by '1 - Butterfly Downloads.ipynb'\n",
    "BUTTERFLIES_ORIG_FILEPATH = Path('./butterflies_original.csv')\n",
    "\n",
    "# Will write a new CSV containing our annotations\n",
    "BUTTERFLIES_BBOXES_FILEPATH = Path('./butterflies_bboxes.csv')\n",
    "\n",
    "# Where filenames referenced in the CSV can be found\n",
    "IMAGE_FOLDER = Path('./butterfly_medium_images')\n",
    "\n",
    "# If butterflies_bboxes.csv already exists reopen it (perhaps you've already drawn some bounding \n",
    "# boxes and are coming back to add more), otherwise start from butterflies_original.csv\n",
    "df = pd.read_csv(BUTTERFLIES_BBOXES_FILEPATH if BUTTERFLIES_BBOXES_FILEPATH.is_file() else BUTTERFLIES_ORIG_FILEPATH)"
   ]
  },
  {
   "cell_type": "code",
   "execution_count": 4,
   "metadata": {},
   "outputs": [
    {
     "data": {
      "text/plain": [
       "['gatekeeper_butterfly', 'meadow_brown_butterfly']"
      ]
     },
     "execution_count": 4,
     "metadata": {},
     "output_type": "execute_result"
    }
   ],
   "source": [
    "cats = sorted(df['class'].drop_duplicates().values.tolist()); cats # Unique classes"
   ]
  },
  {
   "cell_type": "code",
   "execution_count": 5,
   "metadata": {},
   "outputs": [],
   "source": [
    "# Add some extra columns if we are creating the annotation-enriched butterflies_bboxes.csv file \n",
    "# for the first time \n",
    "if not BUTTERFLIES_BBOXES_FILEPATH.is_file():\n",
    "    for new_col in ('exclude','x','y','w','h'):\n",
    "        df[new_col] = 0"
   ]
  },
  {
   "cell_type": "markdown",
   "metadata": {},
   "source": [
    "## Prepare numpy arrays that will be fed into (and updated by) the Innotater.\n",
    "\n",
    "`classes` will be a _row-count x 1_ matrix containing 0 for gatekeeper_butterfly and 1 for meadow_brown_butterfly\n",
    "\n",
    "`excludes` will be the same shape, but containing 0 (default) for images that we want to keep in our train/val sets, 1 if we want to drop that image (if it should have never made it into the dataset anyway, e.g. not a photo of a butterfly, or multiple/misclassified butterflies).\n",
    "\n",
    "`bboxes` will be a _row-count x 4_ containing bounding box co-ordinates, each row of 4 integers corresponding to x,y,w,h respectively where x,y is the top-left co-ordinate of the box, w,h the width and height."
   ]
  },
  {
   "cell_type": "code",
   "execution_count": 6,
   "metadata": {},
   "outputs": [],
   "source": [
    "classes = np.array([cats.index(c) for c in df['class']])\n",
    "excludes = df['exclude'].values\n",
    "bboxes = df[['x','y','w','h']].values"
   ]
  },
  {
   "cell_type": "markdown",
   "metadata": {},
   "source": [
    "The default order of images in the CSV file will show nearly 500 images of the first class (Gatekeeper butterflies), and then another nearly 500 of the second class. We don't want to draw boxes for 951 images. Maybe we'll draw 200 total, but we want that to be split 100 per class. So we prepare an `indexes` argument to pass to Innotater so it shows us one image of each class alternating."
   ]
  },
  {
   "cell_type": "code",
   "execution_count": 7,
   "metadata": {},
   "outputs": [],
   "source": [
    "# Make an ordering so that we cycle through the different categories, \n",
    "# so as we step through we get to see the same number of images from each category\n",
    "cat_dicts = {}\n",
    "for i,cat in enumerate(df['class']):\n",
    "    cat_dicts.setdefault(cat, []).append(i)\n",
    "\n",
    "min_len = min([len(a) for a in cat_dicts.values()])\n",
    "\n",
    "indexes = np.array([a[:min_len] for a in cat_dicts.values()]).transpose().reshape(-1)"
   ]
  },
  {
   "cell_type": "code",
   "execution_count": 8,
   "metadata": {},
   "outputs": [
    {
     "data": {
      "text/plain": [
       "array([  0, 482,   1, 483,   2, 484,   3, 485,   4, 486])"
      ]
     },
     "execution_count": 8,
     "metadata": {},
     "output_type": "execute_result"
    }
   ],
   "source": [
    "indexes[:10] # Check that this alternates between somewhere near start of the list and the second half of list"
   ]
  },
  {
   "cell_type": "code",
   "execution_count": 9,
   "metadata": {},
   "outputs": [
    {
     "name": "stdout",
     "output_type": "stream",
     "text": [
      "Next index needing a box: 260\n"
     ]
    }
   ],
   "source": [
    "# If we are coming back to add more bounding boxes, we need to know where we got to last time\n",
    "first_blank = ((bboxes[indexes] != 0).sum(axis=1) + excludes[indexes] == 0).nonzero()[0][0]\n",
    "print(f'Next index needing a box: {first_blank}')"
   ]
  },
  {
   "cell_type": "markdown",
   "metadata": {},
   "source": [
    "## Create and Show Innotater Widget\n",
    "\n",
    "We are now ready to use the Innotater to interactively step through each image to draw a bounding box and to flag any images that should be removed.\n",
    "\n",
    "If it should be removed, check the `Exclude` checkbox - e.g. if no butterfly is present. Otherwise, at least for the first 200 images, we draw a bounding box around the butterfly. It's a lot of work to too many draw boxes, so we'll stop drawing after 200 but will step through the rest to see if any need to be excluded from the dataset still.\n",
    "\n",
    "If the classification is wrong, it is also possible to switch the class, although generally I have trusted Flickr users' tags. It's up to you to come up with a plan for how to draw the boxes consistently (e.g. I decided to include all their little arms and legs!) and the criteria for exclusion from the dataset.\n",
    "\n",
    "You can save the data you've made so far at any time by running the 'Save Your Data' section below."
   ]
  },
  {
   "cell_type": "code",
   "execution_count": 10,
   "metadata": {},
   "outputs": [
    {
     "data": {
      "application/vnd.jupyter.widget-view+json": {
       "model_id": "967c464e677a4a21979656b9d524f409",
       "version_major": 2,
       "version_minor": 0
      },
      "text/plain": [
       "Innotater(children=(HBox(children=(VBox(children=(ImagePad(value=b'\\xff\\xd8\\xff\\xe0\\x00\\x10JFIF\\x00\\x01\\x01\\x0…"
      ]
     },
     "metadata": {},
     "output_type": "display_data"
    }
   ],
   "source": [
    "# Construct the Innotater widget. Format is Innotater( inputs, targets, indexes=indexes)\n",
    "# `inputs` is generally the 'x' side of the machine learning project, `targets` the 'y' side \n",
    "# that you are most likely to adjust using the Innotater.\n",
    "# \n",
    "# The only real `inputs` is the image itself. We also show the image filename as text but it's \n",
    "# not needed.\n",
    "# \n",
    "# `targets` are created from the bounding box matrix (bboxes), the excludes matrix which is \n",
    "# binary (0 or 1 in a checkbox), and the classes which in theory might be multiple classes so \n",
    "# is displayed as a selection list.\n",
    "\n",
    "winnotater = Innotater( \n",
    "    [ImageInnotation(df['filename'], path=IMAGE_FOLDER, height=300, width=400),\n",
    "     TextInnotation(df['filename'])\n",
    "    ],\n",
    "    [BoundingBoxInnotation(bboxes), # Assumes the boxes relate to the only available image input\n",
    "     BinaryClassInnotation(excludes, name='Exclude'),\n",
    "     MultiClassInnotation(classes, classes=cats, dropdown=True)\n",
    "    ],\n",
    "    indexes=indexes # Our mapping to ensure we see alternating classes of butterfly\n",
    ")\n",
    "\n",
    "winnotater.index = int(first_blank) # Jump to the first index that's missing a bounding box\n",
    "display(winnotater) # Show the widget - will not be visible in GitHub preview"
   ]
  },
  {
   "cell_type": "code",
   "execution_count": 11,
   "metadata": {},
   "outputs": [
    {
     "data": {
      "text/plain": [
       "array([[  1,   0,   0,   0,   0],\n",
       "       [  0,  38, 197, 484, 268],\n",
       "       [  1,   0,   0,   0,   0],\n",
       "       [  0, 274,  31, 458, 556],\n",
       "       [  1,   0,   0,   0,   0],\n",
       "       [  0,  70,  29, 457, 457],\n",
       "       [  0, 282, 195, 178, 170],\n",
       "       [  0, 173,  49, 307, 349]])"
      ]
     },
     "execution_count": 11,
     "metadata": {},
     "output_type": "execute_result"
    }
   ],
   "source": [
    "# Show the first few lines of [exclude,x,y,w,h]. The `bboxes` and `excludes` variables are \n",
    "# updated automatically when you make changes in the widget above.\n",
    "\n",
    "np.concatenate([excludes[indexes].reshape(-1,1),bboxes[indexes]], axis=-1)[:8] # Just to display - not required"
   ]
  },
  {
   "cell_type": "markdown",
   "metadata": {},
   "source": [
    "## Save Your Data"
   ]
  },
  {
   "cell_type": "code",
   "execution_count": 12,
   "metadata": {},
   "outputs": [],
   "source": [
    "# Numpy matrices are updated in real-time as you interact with the Innotater widget\n",
    "# Now explicitly write those updated matrices back into the Pandas DataFrame\n",
    "df[['x','y','w','h']] = bboxes\n",
    "df['exclude'] = excludes\n",
    "df['class'] = [cats[i] for i in classes]\n",
    "\n",
    "# And save the full Pandas data back to a CSV file\n",
    "df.to_csv(BUTTERFLIES_BBOXES_FILEPATH, index=False)"
   ]
  },
  {
   "cell_type": "markdown",
   "metadata": {},
   "source": [
    "Having saved the data into the new butterflies_bboxes.csv file, you can close Jupyter and come back any time and this notebook will reload your new file where you left off."
   ]
  },
  {
   "cell_type": "code",
   "execution_count": null,
   "metadata": {},
   "outputs": [],
   "source": []
  }
 ],
 "metadata": {
  "kernelspec": {
   "display_name": "Python 3",
   "language": "python",
   "name": "python3"
  },
  "language_info": {
   "codemirror_mode": {
    "name": "ipython",
    "version": 3
   },
   "file_extension": ".py",
   "mimetype": "text/x-python",
   "name": "python",
   "nbconvert_exporter": "python",
   "pygments_lexer": "ipython3",
   "version": "3.7.1"
  }
 },
 "nbformat": 4,
 "nbformat_minor": 2
}
